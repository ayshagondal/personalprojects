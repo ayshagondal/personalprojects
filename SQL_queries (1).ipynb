{
  "nbformat": 4,
  "nbformat_minor": 0,
  "metadata": {
    "colab": {
      "provenance": []
    },
    "kernelspec": {
      "name": "python3",
      "display_name": "Python 3"
    },
    "language_info": {
      "name": "python"
    }
  },
  "cells": [
    {
      "cell_type": "code",
      "execution_count": null,
      "metadata": {
        "id": "6RI6Xzffx3GR"
      },
      "outputs": [],
      "source": []
    },
    {
      "cell_type": "code",
      "source": [
        "%%bigquery --project projchallenge\n",
        "\n",
        "#initial cohorts creation based on year and month\n",
        "SELECT\n",
        "  FORMAT_DATE('%Y-%m', subscription_started) AS cohort,\n",
        "  subscription_plan_type,\n",
        "  COUNT(*) AS total_subscriptions\n",
        "FROM\n",
        "  `projchallenge.subscription_sorted.round2_technical_interview_sorted_data`\n",
        "GROUP BY\n",
        "  FORMAT_DATE('%Y-%m',subscription_started),\n",
        "  subscription_plan_type\n",
        "ORDER BY\n",
        "  cohort ASC,\n",
        "  subscription_plan_type ASC;"
      ],
      "metadata": {
        "id": "0o6D9q6F07NF"
      },
      "execution_count": null,
      "outputs": []
    },
    {
      "cell_type": "code",
      "source": [
        "%%bigquery --project projchallenge\n",
        "#dynamic retention periods\n",
        "WITH cohorts AS (\n",
        "  SELECT\n",
        "    FORMAT_DATE('%Y-%m', DATE(subscription_started)) AS subscription_started,\n",
        "    DATE_TRUNC(DATE(subscription_started), MONTH) AS cohort_start_date,\n",
        "    CASE\n",
        "      WHEN cancel_time is NULL THEN LAST_DAY(CURRENT_DATE())\n",
        "      WHEN cancel_time = '' THEN LAST_DAY(CURRENT_DATE())\n",
        "      WHEN DATE(cancel_time) = DATE(subscription_started) THEN DATE_ADD(DATE(subscription_started) , INTERVAL 1 DAY)\n",
        "      ELSE DATE(cancel_time)\n",
        "    END AS subscription_cancel_time,\n",
        "    subscription_plan_type,\n",
        "\n",
        "  FROM\n",
        "    `projchallenge.subscription_sorted.round2_technical_interview_sorted_data`\n",
        "),\n",
        "subscription_periods AS(\n",
        "  SELECT\n",
        "    subscription_started, subscription_plan_type,\n",
        "    DATE_ADD(cohort_start_date, INTERVAL month_offset MONTH) AS active_month,\n",
        "    month_offset +1 AS month_number,\n",
        "    subscription_cancel_time\n",
        "  FROM\n",
        "    cohorts\n",
        "  CROSS JOIN UNNEST(\n",
        "    GENERATE_ARRAY(0, DATE_DIFF(\n",
        "      subscription_cancel_time,\n",
        "      cohort_start_date,\n",
        "      MONTH)\n",
        "    )\n",
        "  ) AS month_offset\n",
        "  WHERE DATE_ADD(cohort_start_date, INTERVAL month_offset MONTH) <= subscription_cancel_time\n",
        "),\n",
        "retention_table AS(\n",
        "  SELECT\n",
        "    subscription_started,\n",
        "    month_number,\n",
        "    subscription_plan_type,\n",
        "    COUNT(*) AS active_subscriptions\n",
        "  FROM\n",
        "    subscription_periods\n",
        "  GROUP BY\n",
        "    subscription_started,\n",
        "    month_number,\n",
        "    subscription_plan_type\n",
        " )\n",
        "\n",
        "SELECT\n",
        "  subscription_started, subscription_plan_type,\n",
        "  MAX(CASE WHEN month_number = 1 THEN active_subscriptions ELSE 0 END) AS month_1,\n",
        "  MAX(CASE WHEN month_number = 2 THEN active_subscriptions ELSE 0 END) AS month_2,\n",
        "  MAX(CASE WHEN month_number = 3 THEN active_subscriptions ELSE 0 END) AS month_3,\n",
        "  MAX(CASE WHEN month_number = 4 THEN active_subscriptions ELSE 0 END) AS month_4,\n",
        "  MAX(CASE WHEN month_number = 5 THEN active_subscriptions ELSE 0 END) AS month_5,\n",
        "  MAX(CASE WHEN month_number = 6 THEN active_subscriptions ELSE 0 END) AS month_6,\n",
        "  MAX(CASE WHEN month_number = 7 THEN active_subscriptions ELSE 0 END) AS month_7,\n",
        "  MAX(CASE WHEN month_number = 8 THEN active_subscriptions ELSE 0 END) AS month_8,\n",
        "  MAX(CASE WHEN month_number = 9 THEN active_subscriptions ELSE 0 END) AS month_9,\n",
        "  MAX(CASE WHEN month_number = 10 THEN active_subscriptions ELSE 0 END) AS month_10,\n",
        "  MAX(CASE WHEN month_number = 11 THEN active_subscriptions ELSE 0 END) AS month_11,\n",
        "  MAX(CASE WHEN month_number = 12 THEN active_subscriptions ELSE 0 END) AS month_12\n",
        "FROM\n",
        "  retention_table\n",
        "GROUP BY\n",
        "    subscription_started, subscription_plan_type\n",
        "ORDER BY\n",
        "   subscription_started, subscription_plan_type;\n",
        "\n"
      ],
      "metadata": {
        "id": "kPUjsrNv0_5V"
      },
      "execution_count": null,
      "outputs": []
    }
  ]
}